{
 "cells": [
  {
   "cell_type": "code",
   "execution_count": 1,
   "metadata": {},
   "outputs": [
    {
     "name": "stdout",
     "output_type": "stream",
     "text": [
      "Requirement already satisfied: torch in ./.venv/lib/python3.12/site-packages (2.6.0)\n",
      "Requirement already satisfied: torchvision in ./.venv/lib/python3.12/site-packages (0.21.0)\n",
      "Requirement already satisfied: pandas in ./.venv/lib/python3.12/site-packages (2.2.3)\n",
      "Requirement already satisfied: matplotlib in ./.venv/lib/python3.12/site-packages (3.10.1)\n",
      "Requirement already satisfied: numpy in ./.venv/lib/python3.12/site-packages (2.2.4)\n",
      "Requirement already satisfied: filelock in ./.venv/lib/python3.12/site-packages (from torch) (3.18.0)\n",
      "Requirement already satisfied: typing-extensions>=4.10.0 in ./.venv/lib/python3.12/site-packages (from torch) (4.13.1)\n",
      "Requirement already satisfied: networkx in ./.venv/lib/python3.12/site-packages (from torch) (3.4.2)\n",
      "Requirement already satisfied: jinja2 in ./.venv/lib/python3.12/site-packages (from torch) (3.1.6)\n",
      "Requirement already satisfied: fsspec in ./.venv/lib/python3.12/site-packages (from torch) (2025.3.2)\n",
      "Requirement already satisfied: setuptools in ./.venv/lib/python3.12/site-packages (from torch) (78.1.0)\n",
      "Requirement already satisfied: sympy==1.13.1 in ./.venv/lib/python3.12/site-packages (from torch) (1.13.1)\n",
      "Requirement already satisfied: mpmath<1.4,>=1.1.0 in ./.venv/lib/python3.12/site-packages (from sympy==1.13.1->torch) (1.3.0)\n",
      "Requirement already satisfied: pillow!=8.3.*,>=5.3.0 in ./.venv/lib/python3.12/site-packages (from torchvision) (11.1.0)\n",
      "Requirement already satisfied: python-dateutil>=2.8.2 in ./.venv/lib/python3.12/site-packages (from pandas) (2.9.0.post0)\n",
      "Requirement already satisfied: pytz>=2020.1 in ./.venv/lib/python3.12/site-packages (from pandas) (2025.2)\n",
      "Requirement already satisfied: tzdata>=2022.7 in ./.venv/lib/python3.12/site-packages (from pandas) (2025.2)\n",
      "Requirement already satisfied: contourpy>=1.0.1 in ./.venv/lib/python3.12/site-packages (from matplotlib) (1.3.1)\n",
      "Requirement already satisfied: cycler>=0.10 in ./.venv/lib/python3.12/site-packages (from matplotlib) (0.12.1)\n",
      "Requirement already satisfied: fonttools>=4.22.0 in ./.venv/lib/python3.12/site-packages (from matplotlib) (4.57.0)\n",
      "Requirement already satisfied: kiwisolver>=1.3.1 in ./.venv/lib/python3.12/site-packages (from matplotlib) (1.4.8)\n",
      "Requirement already satisfied: packaging>=20.0 in ./.venv/lib/python3.12/site-packages (from matplotlib) (24.2)\n",
      "Requirement already satisfied: pyparsing>=2.3.1 in ./.venv/lib/python3.12/site-packages (from matplotlib) (3.2.3)\n",
      "Requirement already satisfied: six>=1.5 in ./.venv/lib/python3.12/site-packages (from python-dateutil>=2.8.2->pandas) (1.17.0)\n",
      "Requirement already satisfied: MarkupSafe>=2.0 in ./.venv/lib/python3.12/site-packages (from jinja2->torch) (3.0.2)\n",
      "Note: you may need to restart the kernel to use updated packages.\n"
     ]
    }
   ],
   "source": [
    "%pip install torch torchvision pandas matplotlib numpy\n",
    "\n",
    "import torch\n",
    "import torch.nn as nn\n",
    "import torch.optim as optim\n",
    "import torch.nn.functional as F\n",
    "import pandas as pd\n",
    "import matplotlib.pyplot as plt\n",
    "import numpy as np\n",
    "import torchvision.transforms as transforms\n",
    "\n",
    "import shared"
   ]
  },
  {
   "cell_type": "code",
   "execution_count": 2,
   "metadata": {},
   "outputs": [],
   "source": [
    "dl = shared.load_data(\"dataset/train.csv\", 256, shuffle=True, train=True)"
   ]
  },
  {
   "cell_type": "code",
   "execution_count": 3,
   "metadata": {},
   "outputs": [
    {
     "name": "stdout",
     "output_type": "stream",
     "text": [
      "Using device: mps\n",
      "Batch Progress: 1.00000, Batch Loss: 0.0010, Accuracy: 0.93378\n",
      "Epoch 1: Loss: 0.2488, Accuracy: 0.9338, LR: -2.000000\n",
      "Batch Progress: 1.00000, Batch Loss: 0.0001, Accuracy: 0.98896\n",
      "Epoch 2: Loss: 0.0349, Accuracy: 0.9890, LR: -3.000000\n",
      "Batch Progress: 1.00000, Batch Loss: 0.0001, Accuracy: 0.99163\n",
      "Epoch 3: Loss: 0.0260, Accuracy: 0.9916, LR: -4.000000\n",
      "Batch Progress: 1.00000, Batch Loss: 0.0001, Accuracy: 0.99237\n",
      "Epoch 4: Loss: 0.0244, Accuracy: 0.9924, LR: -5.000000\n",
      "Batch Progress: 1.00000, Batch Loss: 0.0001, Accuracy: 0.99243\n",
      "Epoch 5: Loss: 0.0239, Accuracy: 0.9924, LR: -6.000000\n",
      "Batch Progress: 1.00000, Batch Loss: 0.0001, Accuracy: 0.99249\n",
      "Epoch 6: Loss: 0.0242, Accuracy: 0.9925, LR: -7.000000\n",
      "Batch Progress: 1.00000, Batch Loss: 0.0001, Accuracy: 0.99241\n",
      "Epoch 7: Loss: 0.0241, Accuracy: 0.9924, LR: -8.000000\n",
      "Batch Progress: 1.00000, Batch Loss: 0.0001, Accuracy: 0.99241\n",
      "Epoch 8: Loss: 0.0244, Accuracy: 0.9924, LR: -9.000000\n",
      "Batch Progress: 1.00000, Batch Loss: 0.0001, Accuracy: 0.99225\n",
      "Epoch 9: Loss: 0.0245, Accuracy: 0.9922, LR: -10.000000\n",
      "Batch Progress: 1.00000, Batch Loss: 0.0001, Accuracy: 0.99222\n",
      "Epoch 10: Loss: 0.0246, Accuracy: 0.9922, LR: -11.000000\n"
     ]
    }
   ],
   "source": [
    "device = torch.device(\"cuda\" if torch.cuda.is_available() else \"mps\" if torch.mps.is_available() else \"cpu\")\n",
    "# device = torch.device(\"cpu\")\n",
    "\n",
    "print(f\"Using device: {device}\")\n",
    "\n",
    "model = shared.SimpleCNN()\n",
    "loss = nn.CrossEntropyLoss()\n",
    "optimizer = optim.AdamW(model.parameters(), lr=1e-2)\n",
    "scheduler = optim.lr_scheduler.ExponentialLR(optimizer, gamma=0.1)\n",
    "model.to(device)\n",
    "\n",
    "def train(model, dl, loss, optimizer, device):\n",
    "    model.train()\n",
    "    total_loss = 0\n",
    "    correct = 0\n",
    "    total = 0\n",
    "\n",
    "    for i, (data, target) in enumerate(dl):\n",
    "        data, target = data.to(torch.float32).to(device), target.to(torch.float32).to(device)\n",
    "\n",
    "        optimizer.zero_grad()\n",
    "        output = model(data)\n",
    "        loss_value = loss(output, target)\n",
    "        loss_value.backward()\n",
    "        optimizer.step()\n",
    "\n",
    "        total_loss += loss_value.item()\n",
    "        _, predicted = torch.max(output.data, 1)\n",
    "        total += target.size(0)\n",
    "        correct += (predicted == target).sum().item()\n",
    "        print(f'Batch Progress: {(i + 1) / len(dl):.5f}, Batch Loss: {total_loss / total:.4f}, Accuracy: {correct / total:.5f}', end='\\r', flush=True)\n",
    "    print()\n",
    "\n",
    "    accuracy = correct / total\n",
    "    return total_loss / len(dl), accuracy\n",
    "\n",
    "for epoch in range(1, 11):\n",
    "    train_loss, train_accuracy = train(model, dl, loss, optimizer, device)\n",
    "    print(f'Epoch {epoch}: Loss: {train_loss:.4f}, Accuracy: {train_accuracy:.4f}, LR: {np.log10(scheduler.get_last_lr()[0]):.6f}')\n",
    "    scheduler.step()\n",
    "\n",
    "# Save the model\n",
    "torch.save(model.state_dict(), 'model.pth')"
   ]
  }
 ],
 "metadata": {
  "kernelspec": {
   "display_name": ".venv",
   "language": "python",
   "name": "python3"
  },
  "language_info": {
   "codemirror_mode": {
    "name": "ipython",
    "version": 3
   },
   "file_extension": ".py",
   "mimetype": "text/x-python",
   "name": "python",
   "nbconvert_exporter": "python",
   "pygments_lexer": "ipython3",
   "version": "3.12.9"
  }
 },
 "nbformat": 4,
 "nbformat_minor": 2
}
